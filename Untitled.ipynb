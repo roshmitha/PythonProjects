{
 "cells": [
  {
   "cell_type": "code",
   "execution_count": 1,
   "metadata": {},
   "outputs": [
    {
     "name": "stdout",
     "output_type": "stream",
     "text": [
      "Collecting cookiecutter\n",
      "  Using cached https://files.pythonhosted.org/packages/64/4f/66a92457a729104db896321135e05b0cf94a9034fd5345f30d4d8386b957/cookiecutter-2.1.1-py2.py3-none-any.whl\n",
      "Collecting pyyaml>=5.3.1 (from cookiecutter)\n",
      "  Using cached https://files.pythonhosted.org/packages/9d/f6/7e91fbb58c9ee528759aea5892e062cccb426720c5830ddcce92eba00ff1/PyYAML-6.0-cp37-cp37m-macosx_10_9_x86_64.whl\n",
      "Requirement already satisfied: Jinja2<4.0.0,>=2.7 in /opt/anaconda3/lib/python3.7/site-packages (from cookiecutter) (2.10.3)\n",
      "Requirement already satisfied: python-slugify>=4.0.0 in /opt/anaconda3/lib/python3.7/site-packages (from cookiecutter) (8.0.1)\n",
      "Requirement already satisfied: jinja2-time>=0.2.0 in /opt/anaconda3/lib/python3.7/site-packages (from cookiecutter) (0.2.0)\n",
      "Requirement already satisfied: binaryornot>=0.4.4 in /opt/anaconda3/lib/python3.7/site-packages (from cookiecutter) (0.4.4)\n",
      "Requirement already satisfied: click<9.0.0,>=7.0 in /opt/anaconda3/lib/python3.7/site-packages (from cookiecutter) (7.0)\n",
      "Requirement already satisfied: requests>=2.23.0 in /opt/anaconda3/lib/python3.7/site-packages (from cookiecutter) (2.28.2)\n",
      "Requirement already satisfied: MarkupSafe>=0.23 in /opt/anaconda3/lib/python3.7/site-packages (from Jinja2<4.0.0,>=2.7->cookiecutter) (1.1.1)\n",
      "Requirement already satisfied: text-unidecode>=1.3 in /opt/anaconda3/lib/python3.7/site-packages (from python-slugify>=4.0.0->cookiecutter) (1.3)\n",
      "Requirement already satisfied: arrow in /opt/anaconda3/lib/python3.7/site-packages (from jinja2-time>=0.2.0->cookiecutter) (1.2.3)\n",
      "Requirement already satisfied: chardet>=3.0.2 in /opt/anaconda3/lib/python3.7/site-packages (from binaryornot>=0.4.4->cookiecutter) (3.0.4)\n",
      "Requirement already satisfied: urllib3<1.27,>=1.21.1 in /opt/anaconda3/lib/python3.7/site-packages (from requests>=2.23.0->cookiecutter) (1.26.5)\n",
      "Requirement already satisfied: certifi>=2017.4.17 in /opt/anaconda3/lib/python3.7/site-packages (from requests>=2.23.0->cookiecutter) (2019.9.11)\n",
      "Requirement already satisfied: charset-normalizer<4,>=2 in /opt/anaconda3/lib/python3.7/site-packages (from requests>=2.23.0->cookiecutter) (3.1.0)\n",
      "Requirement already satisfied: idna<4,>=2.5 in /opt/anaconda3/lib/python3.7/site-packages (from requests>=2.23.0->cookiecutter) (2.8)\n",
      "Requirement already satisfied: typing-extensions; python_version < \"3.8\" in /opt/anaconda3/lib/python3.7/site-packages (from arrow->jinja2-time>=0.2.0->cookiecutter) (4.5.0)\n",
      "Requirement already satisfied: python-dateutil>=2.7.0 in /opt/anaconda3/lib/python3.7/site-packages (from arrow->jinja2-time>=0.2.0->cookiecutter) (2.8.0)\n",
      "Requirement already satisfied: six>=1.5 in /opt/anaconda3/lib/python3.7/site-packages (from python-dateutil>=2.7.0->arrow->jinja2-time>=0.2.0->cookiecutter) (1.12.0)\n",
      "Installing collected packages: pyyaml, cookiecutter\n",
      "  Found existing installation: PyYAML 5.1.2\n",
      "\u001b[31mERROR: Cannot uninstall 'PyYAML'. It is a distutils installed project and thus we cannot accurately determine which files belong to it which would lead to only a partial uninstall.\u001b[0m\n",
      "Note: you may need to restart the kernel to use updated packages.\n"
     ]
    }
   ],
   "source": [
    "pip install cookiecutter"
   ]
  },
  {
   "cell_type": "code",
   "execution_count": 4,
   "metadata": {},
   "outputs": [
    {
     "ename": "SyntaxError",
     "evalue": "invalid syntax (<ipython-input-4-8d43f25c21b8>, line 1)",
     "output_type": "error",
     "traceback": [
      "\u001b[0;36m  File \u001b[0;32m\"<ipython-input-4-8d43f25c21b8>\"\u001b[0;36m, line \u001b[0;32m1\u001b[0m\n\u001b[0;31m    install git\u001b[0m\n\u001b[0m              ^\u001b[0m\n\u001b[0;31mSyntaxError\u001b[0m\u001b[0;31m:\u001b[0m invalid syntax\n"
     ]
    }
   ],
   "source": [
    "install git"
   ]
  },
  {
   "cell_type": "code",
   "execution_count": 3,
   "metadata": {},
   "outputs": [
    {
     "name": "stdout",
     "output_type": "stream",
     "text": [
      "Collecting git\n",
      "\u001b[31m  ERROR: Could not find a version that satisfies the requirement git (from versions: none)\u001b[0m\n",
      "\u001b[31mERROR: No matching distribution found for git\u001b[0m\n",
      "Note: you may need to restart the kernel to use updated packages.\n"
     ]
    }
   ],
   "source": [
    "pip install git"
   ]
  },
  {
   "cell_type": "code",
   "execution_count": 4,
   "metadata": {},
   "outputs": [
    {
     "ename": "NameError",
     "evalue": "name 'git' is not defined",
     "output_type": "error",
     "traceback": [
      "\u001b[0;31m---------------------------------------------------------------------------\u001b[0m",
      "\u001b[0;31mNameError\u001b[0m                                 Traceback (most recent call last)",
      "\u001b[0;32m<ipython-input-4-7407f1d6c5f6>\u001b[0m in \u001b[0;36m<module>\u001b[0;34m\u001b[0m\n\u001b[0;32m----> 1\u001b[0;31m \u001b[0mgit\u001b[0m \u001b[0;34m-\u001b[0m\u001b[0;34m-\u001b[0m\u001b[0mversion\u001b[0m\u001b[0;34m\u001b[0m\u001b[0;34m\u001b[0m\u001b[0m\n\u001b[0m",
      "\u001b[0;31mNameError\u001b[0m: name 'git' is not defined"
     ]
    }
   ],
   "source": [
    "git --version"
   ]
  },
  {
   "cell_type": "code",
   "execution_count": null,
   "metadata": {},
   "outputs": [],
   "source": []
  }
 ],
 "metadata": {
  "kernelspec": {
   "display_name": "Python 3",
   "language": "python",
   "name": "python3"
  },
  "language_info": {
   "codemirror_mode": {
    "name": "ipython",
    "version": 3
   },
   "file_extension": ".py",
   "mimetype": "text/x-python",
   "name": "python",
   "nbconvert_exporter": "python",
   "pygments_lexer": "ipython3",
   "version": "3.7.4"
  }
 },
 "nbformat": 4,
 "nbformat_minor": 4
}
